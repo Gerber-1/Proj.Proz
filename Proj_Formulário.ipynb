{
  "nbformat": 4,
  "nbformat_minor": 0,
  "metadata": {
    "colab": {
      "provenance": [],
      "authorship_tag": "ABX9TyPh2LtCekCNlUVHb2DYEcQK",
      "include_colab_link": true
    },
    "kernelspec": {
      "name": "python3",
      "display_name": "Python 3"
    },
    "language_info": {
      "name": "python"
    }
  },
  "cells": [
    {
      "cell_type": "markdown",
      "metadata": {
        "id": "view-in-github",
        "colab_type": "text"
      },
      "source": [
        "<a href=\"https://colab.research.google.com/github/Gerber-1/Proj.Proz/blob/main/Proj_Formul%C3%A1rio.ipynb\" target=\"_parent\"><img src=\"https://colab.research.google.com/assets/colab-badge.svg\" alt=\"Open In Colab\"/></a>"
      ]
    },
    {
      "cell_type": "markdown",
      "source": [
        "Desenvolva um programa que recebe do usuário nome completo e ano de nascimento que seja entre 1922 e 2021.\n",
        "A partir dessas informações, o sistema mostrará o nome do usuário e a idade que completou, ou completará, no ano atual (2022).\n",
        "\n",
        "Caso o usuário não digite um número ou apareça um inválido no campo do ano, o sistema informará o erro e continuará perguntando até que um valor correto seja preenchido."
      ],
      "metadata": {
        "id": "wUi8dy4_1yAZ"
      }
    },
    {
      "cell_type": "code",
      "source": [
        "def obter_ano_nascimento():\n",
        "    while True:\n",
        "        try:\n",
        "            ano = int(input(\"Digite o seu ano de nascimento (entre 1922 e 2021): \"))\n",
        "            if 1922 <= ano <= 2021:\n",
        "                return ano\n",
        "            else:\n",
        "                print(\"Ano inválido. Por favor, insira um ano entre 1922 e 2021.\")\n",
        "        except ValueError:\n",
        "            print(\"Entrada inválida. Por favor, digite um número inteiro.\")\n",
        "\n",
        "def main():\n",
        "    nome_completo = input(\"Digite seu nome completo: \")\n",
        "    ano_nascimento = obter_ano_nascimento()\n",
        "    idade = 2022 - ano_nascimento\n",
        "    print(f\"\\n{nome_completo}, você completou ou completará {idade} anos em 2022.\")\n",
        "\n",
        "if __name__ == \"__main__\":\n",
        "    main()\n"
      ],
      "metadata": {
        "colab": {
          "base_uri": "https://localhost:8080/"
        },
        "id": "RddbrE7Z11gF",
        "outputId": "1308b4d6-ce13-4d55-cbd7-d3d8ec70ae2e"
      },
      "execution_count": 1,
      "outputs": [
        {
          "output_type": "stream",
          "name": "stdout",
          "text": [
            "Digite seu nome completo: Gerber Bruno\n",
            "Digite o seu ano de nascimento (entre 1922 e 2021): 1988\n",
            "\n",
            "Gerber Bruno, você completou ou completará 34 anos em 2022.\n"
          ]
        }
      ]
    }
  ]
}