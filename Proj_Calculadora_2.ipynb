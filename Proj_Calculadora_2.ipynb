{
  "nbformat": 4,
  "nbformat_minor": 0,
  "metadata": {
    "colab": {
      "provenance": [],
      "authorship_tag": "ABX9TyPkRbpe9/HnXuS6cPqrGgzw",
      "include_colab_link": true
    },
    "kernelspec": {
      "name": "python3",
      "display_name": "Python 3"
    },
    "language_info": {
      "name": "python"
    }
  },
  "cells": [
    {
      "cell_type": "markdown",
      "metadata": {
        "id": "view-in-github",
        "colab_type": "text"
      },
      "source": [
        "<a href=\"https://colab.research.google.com/github/Gerber-1/Proj.Proz/blob/main/Proj_Calculadora_2.ipynb\" target=\"_parent\"><img src=\"https://colab.research.google.com/assets/colab-badge.svg\" alt=\"Open In Colab\"/></a>"
      ]
    },
    {
      "cell_type": "markdown",
      "source": [
        "Faça uma função calculadora que os números e as operações serão feitas pelo usuário. O código deve ficar rodando infinitamente até que o usuário escolha a opção de sair. No início, o programa mostrará a seguinte lista de operações:\n",
        "\n",
        "1: Soma\n",
        "2: Subtração\n",
        "3: Multiplicação\n",
        "4: Divisão\n",
        "0: Sair\n",
        "\n",
        "Digite o número para a operação correspondente e caso o usuário introduza qualquer outro, o sistema deve mostrar a mensagem “Essa opção não existe” e voltar ao menu de opções.\n",
        "\n",
        "Após a seleção, o sistema deve pedir para o usuário inserir o primeiro e segundo valor, um de cada. Depois precisa executar a operação e mostrar o resultado na tela. Quando o usuário escolher a opção “Sair”, o sistema irá parar.\n",
        "\n",
        "É necessário que o sistema mostre as opções sempre que finalizar uma operação e mostrar o resultado."
      ],
      "metadata": {
        "id": "jLYJ-Wbcyx6D"
      }
    },
    {
      "cell_type": "code",
      "source": [
        "def calculadora():\n",
        "    while True:\n",
        "        print(\"\\nEscolha uma operação:\")\n",
        "        print(\"1: Soma\")\n",
        "        print(\"2: Subtração\")\n",
        "        print(\"3: Multiplicação\")\n",
        "        print(\"4: Divisão\")\n",
        "        print(\"0: Sair\")\n",
        "\n",
        "        operacao = input(\"Digite o número para a operação correspondente: \")\n",
        "\n",
        "        if operacao == '0':\n",
        "            print(\"Saindo da calculadora...\")\n",
        "            break\n",
        "        elif operacao in ['1', '2', '3', '4']:\n",
        "            try:\n",
        "                primeiro_valor = float(input(\"Digite o primeiro valor: \"))\n",
        "                segundo_valor = float(input(\"Digite o segundo valor: \"))\n",
        "\n",
        "                if operacao == '1':\n",
        "                    resultado = primeiro_valor + segundo_valor\n",
        "                    print(f\"Resultado da soma: {resultado}\")\n",
        "                elif operacao == '2':\n",
        "                    resultado = primeiro_valor - segundo_valor\n",
        "                    print(f\"Resultado da subtração: {resultado}\")\n",
        "                elif operacao == '3':\n",
        "                    resultado = primeiro_valor * segundo_valor\n",
        "                    print(f\"Resultado da multiplicação: {resultado}\")\n",
        "                elif operacao == '4':\n",
        "                    if segundo_valor == 0:\n",
        "                        print(\"Erro: Divisão por zero não é permitida.\")\n",
        "                    else:\n",
        "                        resultado = primeiro_valor / segundo_valor\n",
        "                        print(f\"Resultado da divisão: {resultado}\")\n",
        "            except ValueError:\n",
        "                print(\"Erro: Por favor, insira valores numéricos válidos.\")\n",
        "        else:\n",
        "            print(\"Essa opção não existe.\")\n",
        "\n",
        "calculadora()"
      ],
      "metadata": {
        "colab": {
          "base_uri": "https://localhost:8080/"
        },
        "id": "tSyReCp2y6KW",
        "outputId": "5c08c924-aad7-4a3a-86d6-fb52969126df"
      },
      "execution_count": 4,
      "outputs": [
        {
          "output_type": "stream",
          "name": "stdout",
          "text": [
            "\n",
            "Escolha uma operação:\n",
            "1: Soma\n",
            "2: Subtração\n",
            "3: Multiplicação\n",
            "4: Divisão\n",
            "0: Sair\n",
            "Digite o número para a operação correspondente: 1\n",
            "Digite o primeiro valor: 10\n",
            "Digite o segundo valor: 10\n",
            "Resultado da soma: 20.0\n",
            "\n",
            "Escolha uma operação:\n",
            "1: Soma\n",
            "2: Subtração\n",
            "3: Multiplicação\n",
            "4: Divisão\n",
            "0: Sair\n",
            "Digite o número para a operação correspondente: 2\n",
            "Digite o primeiro valor: 50\n",
            "Digite o segundo valor: 40\n",
            "Resultado da subtração: 10.0\n",
            "\n",
            "Escolha uma operação:\n",
            "1: Soma\n",
            "2: Subtração\n",
            "3: Multiplicação\n",
            "4: Divisão\n",
            "0: Sair\n",
            "Digite o número para a operação correspondente: 3\n",
            "Digite o primeiro valor: 9\n",
            "Digite o segundo valor: 9\n",
            "Resultado da multiplicação: 81.0\n",
            "\n",
            "Escolha uma operação:\n",
            "1: Soma\n",
            "2: Subtração\n",
            "3: Multiplicação\n",
            "4: Divisão\n",
            "0: Sair\n",
            "Digite o número para a operação correspondente: 4\n",
            "Digite o primeiro valor: 150\n",
            "Digite o segundo valor: 25\n",
            "Resultado da divisão: 6.0\n",
            "\n",
            "Escolha uma operação:\n",
            "1: Soma\n",
            "2: Subtração\n",
            "3: Multiplicação\n",
            "4: Divisão\n",
            "0: Sair\n",
            "Digite o número para a operação correspondente: 0\n",
            "Saindo da calculadora...\n"
          ]
        }
      ]
    }
  ]
}