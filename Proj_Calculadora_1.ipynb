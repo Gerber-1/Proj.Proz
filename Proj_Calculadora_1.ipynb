{
  "nbformat": 4,
  "nbformat_minor": 0,
  "metadata": {
    "colab": {
      "provenance": [],
      "authorship_tag": "ABX9TyPfV3W6Z3zdHyvpb2xjYRa2",
      "include_colab_link": true
    },
    "kernelspec": {
      "name": "python3",
      "display_name": "Python 3"
    },
    "language_info": {
      "name": "python"
    }
  },
  "cells": [
    {
      "cell_type": "markdown",
      "metadata": {
        "id": "view-in-github",
        "colab_type": "text"
      },
      "source": [
        "<a href=\"https://colab.research.google.com/github/Gerber-1/Proj.Proz/blob/main/Proj_Calculadora_1.ipynb\" target=\"_parent\"><img src=\"https://colab.research.google.com/assets/colab-badge.svg\" alt=\"Open In Colab\"/></a>"
      ]
    },
    {
      "cell_type": "markdown",
      "source": [
        "Faça uma função calculadora de dois números com três parâmetros: os dois primeiros serão os números da operação e o terceiro será a entrada que definirá a operação a ser executada. Considera a seguinte definição:\n",
        "1. Soma\n",
        "2. Subtração\n",
        "3. Multiplicação\n",
        "4. Divisão\n",
        "\n",
        "Caso seja inserido um número de operação que não exista, o resultado deverá ser 0.\n"
      ],
      "metadata": {
        "id": "WYQCVIFSvsd3"
      }
    },
    {
      "cell_type": "code",
      "source": [
        "def calculadora(num1, num2, operacao):\n",
        "    if operacao == 1:\n",
        "        return num1 + num2  # Soma\n",
        "    elif operacao == 2:\n",
        "        return num1 - num2  # Subtração\n",
        "    elif operacao == 3:\n",
        "        return num1 * num2  # Multiplicação\n",
        "    elif operacao == 4:\n",
        "        if num2 != 0:\n",
        "            return num1 / num2  # Divisão\n",
        "        else:\n",
        "            return \"Erro: Divisão por zero\"\n",
        "    else:\n",
        "        return 0  # Operação inválida\n",
        "\n",
        "# Exemplos de uso\n",
        "resultado1 = calculadora(10, 5, 1)  # Soma\n",
        "resultado2 = calculadora(10, 5, 2)  # Subtração\n",
        "resultado3 = calculadora(10, 5, 3)  # Multiplicação\n",
        "resultado4 = calculadora(10, 5, 4)  # Divisão\n",
        "resultado_zero_divisao = calculadora(10, 0, 4)  # Divisão por zero\n",
        "resultado_invalido = calculadora(10, 5, 5)  # Operação inválida\n",
        "\n",
        "print(f\"Soma: {resultado1}\")\n",
        "print(f\"Subtração: {resultado2}\")\n",
        "print(f\"Multiplicação: {resultado3}\")\n",
        "print(f\"Divisão: {resultado4}\")\n",
        "print(f\"Divisão por zero: {resultado_zero_divisao}\")\n",
        "print(f\"Operação inválida: {resultado_invalido}\")\n"
      ],
      "metadata": {
        "colab": {
          "base_uri": "https://localhost:8080/"
        },
        "id": "FOZcuSjVvu1q",
        "outputId": "cc60ddb7-7bac-4983-8ff9-ca85e6daa473"
      },
      "execution_count": 3,
      "outputs": [
        {
          "output_type": "stream",
          "name": "stdout",
          "text": [
            "Soma: 15\n",
            "Subtração: 5\n",
            "Multiplicação: 50\n",
            "Divisão: 2.0\n",
            "Divisão por zero: Erro: Divisão por zero\n",
            "Operação inválida: 0\n"
          ]
        }
      ]
    }
  ]
}